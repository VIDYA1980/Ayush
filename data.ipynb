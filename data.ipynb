{
 "cells": [
  {
   "cell_type": "code",
   "execution_count": 6,
   "metadata": {},
   "outputs": [
    {
     "name": "stdout",
     "output_type": "stream",
     "text": [
      "Images copied and renamed successfully.\n",
      "74\n"
     ]
    }
   ],
   "source": [
    "import os\n",
    "import shutil\n",
    "\n",
    "# Define the source folder containing the 25 folders with images\n",
    "source_folder = 'archive\\Spinach\\Database'\n",
    "\n",
    "# Define the destination folder where the renamed images will be stored\n",
    "destination_folder = 'image_data'\n",
    "\n",
    "# Create the destination folder if it doesn't exist\n",
    "os.makedirs(destination_folder, exist_ok=True)\n",
    "\n",
    "# Loop through each folder in the source folder\n",
    "# for folder_name in os.listdir(source_folder):\n",
    "#     folder_path = os.path.join(source_folder, folder_name)\n",
    "    \n",
    "#     # Check if it's a directory\n",
    "#     if os.path.isdir(folder_path):\n",
    "#         # List all files in the folder\n",
    "#         files = os.listdir(folder_path)\n",
    "        \n",
    "#         # Check if there are any image files (you may want to customize this check)\n",
    "#         image_files = [file for file in files if file.lower().endswith(('.jpg', '.jpeg', '.png', '.gif'))]\n",
    "        \n",
    "#         if image_files:\n",
    "#             # Copy the first image found to the destination folder\n",
    "#             source_image = os.path.join(folder_path, image_files[0])\n",
    "            \n",
    "#             # Remove the '.zip' extension from the folder name\n",
    "#             folder_name_without_extension = folder_name.replace('.zip', '')\n",
    "            \n",
    "#             destination_image = os.path.join(destination_folder, folder_name_without_extension + os.path.splitext(image_files[0])[1])\n",
    "            \n",
    "#             # Copy and rename the image\n",
    "#             shutil.copy(source_image, destination_image)\n",
    "\n",
    "print(\"Images copied and renamed successfully.\")\n",
    "print(len(os.listdir(destination_folder)))"
   ]
  },
  {
   "cell_type": "code",
   "execution_count": null,
   "metadata": {},
   "outputs": [],
   "source": []
  }
 ],
 "metadata": {
  "kernelspec": {
   "display_name": "Python 3",
   "language": "python",
   "name": "python3"
  },
  "language_info": {
   "codemirror_mode": {
    "name": "ipython",
    "version": 3
   },
   "file_extension": ".py",
   "mimetype": "text/x-python",
   "name": "python",
   "nbconvert_exporter": "python",
   "pygments_lexer": "ipython3",
   "version": "3.11.4"
  },
  "orig_nbformat": 4
 },
 "nbformat": 4,
 "nbformat_minor": 2
}
